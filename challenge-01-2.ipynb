{
 "cells": [
  {
   "cell_type": "code",
   "execution_count": null,
   "metadata": {},
   "outputs": [],
   "source": [
    "test_file = \"data-01/test-input.txt\"\n",
    "main_file = \"data-01/input.txt\""
   ]
  },
  {
   "cell_type": "code",
   "execution_count": null,
   "metadata": {},
   "outputs": [],
   "source": [
    "import operator\n",
    "\n",
    "def challenge2(input_file):\n",
    "    with open(input_file) as f:\n",
    "        lines = f.readlines()\n",
    "\n",
    "    i = 0\n",
    "    elf_calories = {}\n",
    "    for j in lines:\n",
    "        if len(j.strip()) < 1:\n",
    "            i = i + 1\n",
    "            continue\n",
    "        elf_calories[i] = elf_calories.get(i, 0) + int(j)\n",
    "    \n",
    "    sorted_elves = sorted(elf_calories, key=elf_calories.get, reverse=True)\n",
    "\n",
    "    top_3_calories = 0\n",
    "    for i in range(3):\n",
    "        top_3_calories = top_3_calories + elf_calories[sorted_elves[i]]\n",
    "\n",
    "    print(top_3_calories)\n",
    "\n",
    "\n",
    "\n",
    "\n",
    "challenge2(input_file=test_file)"
   ]
  },
  {
   "cell_type": "code",
   "execution_count": null,
   "metadata": {},
   "outputs": [],
   "source": [
    "challenge2(input_file=main_file)"
   ]
  }
 ],
 "metadata": {
  "kernelspec": {
   "display_name": "Python 3.11.0 ('base')",
   "language": "python",
   "name": "python3"
  },
  "language_info": {
   "codemirror_mode": {
    "name": "ipython",
    "version": 3
   },
   "file_extension": ".py",
   "mimetype": "text/x-python",
   "name": "python",
   "nbconvert_exporter": "python",
   "pygments_lexer": "ipython3",
   "version": "3.11.0"
  },
  "orig_nbformat": 4,
  "vscode": {
   "interpreter": {
    "hash": "d4d1e4263499bec80672ea0156c357c1ee493ec2b1c70f0acce89fc37c4a6abe"
   }
  }
 },
 "nbformat": 4,
 "nbformat_minor": 2
}
